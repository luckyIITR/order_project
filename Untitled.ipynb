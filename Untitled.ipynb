{
 "cells": [
  {
   "cell_type": "code",
   "execution_count": 30,
   "id": "25aecb98",
   "metadata": {},
   "outputs": [],
   "source": [
    "lis = [2,6,9]\n"
   ]
  },
  {
   "cell_type": "code",
   "execution_count": 35,
   "id": "9eef9003",
   "metadata": {},
   "outputs": [
    {
     "data": {
      "text/plain": [
       "10"
      ]
     },
     "execution_count": 35,
     "metadata": {},
     "output_type": "execute_result"
    }
   ],
   "source": [
    "start_check = max(lis) + 1\n",
    "start_check"
   ]
  },
  {
   "cell_type": "code",
   "execution_count": 32,
   "id": "7509db4a",
   "metadata": {},
   "outputs": [],
   "source": [
    "def smaller_equal(lis, num):\n",
    "    for i in range(len(lis)-1, -1,-1):\n",
    "        if lis[i] <= num:\n",
    "            return lis[i]\n",
    "    else :\n",
    "        return -1"
   ]
  },
  {
   "cell_type": "code",
   "execution_count": 33,
   "id": "5189d170",
   "metadata": {},
   "outputs": [],
   "source": [
    "while(start_check >= 0):\n",
    "    x = smaller_equal(lis, start_check)\n",
    "    if (x != -1):\n",
    "        start_check = start_check - x\n",
    "    else : break"
   ]
  },
  {
   "cell_type": "code",
   "execution_count": 36,
   "id": "af2a9527",
   "metadata": {},
   "outputs": [
    {
     "data": {
      "text/plain": [
       "9"
      ]
     },
     "execution_count": 36,
     "metadata": {},
     "output_type": "execute_result"
    }
   ],
   "source": [
    "smaller_equal(lis, start_check)"
   ]
  },
  {
   "cell_type": "code",
   "execution_count": null,
   "id": "1cf8c58a",
   "metadata": {},
   "outputs": [],
   "source": []
  }
 ],
 "metadata": {
  "kernelspec": {
   "display_name": "Python 3 (ipykernel)",
   "language": "python",
   "name": "python3"
  },
  "language_info": {
   "codemirror_mode": {
    "name": "ipython",
    "version": 3
   },
   "file_extension": ".py",
   "mimetype": "text/x-python",
   "name": "python",
   "nbconvert_exporter": "python",
   "pygments_lexer": "ipython3",
   "version": "3.10.2"
  }
 },
 "nbformat": 4,
 "nbformat_minor": 5
}
